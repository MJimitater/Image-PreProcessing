{
 "cells": [
  {
   "cell_type": "code",
   "execution_count": 24,
   "metadata": {},
   "outputs": [],
   "source": [
    "from PIL import Image\n",
    "import os"
   ]
  },
  {
   "cell_type": "code",
   "execution_count": 25,
   "metadata": {},
   "outputs": [],
   "source": [
    "path = \"./sample_images/\"\n",
    "path_to_cropped_images = \"./cropped_images/\""
   ]
  },
  {
   "cell_type": "code",
   "execution_count": 26,
   "metadata": {},
   "outputs": [],
   "source": [
    "def crop_images(left, top, right, bottom):\n",
    "    pic_l = os.listdir(path)\n",
    "    for pic in pic_l:\n",
    "        pic_p = path + pic\n",
    "        img = Image.open(pic_p)\n",
    "        img_crop = img.crop((left, top, right, bottom))\n",
    "        img_crop.save(path_to_cropped_images + pic)\n",
    "        print(\"cropped and saved \", pic_p, \" into \", path_to_cropped_images + pic)\n"
   ]
  },
  {
   "cell_type": "code",
   "execution_count": 27,
   "metadata": {},
   "outputs": [],
   "source": [
    "left = 0\n",
    "top = 50\n",
    "right = 510\n",
    "bottom = 292"
   ]
  },
  {
   "cell_type": "code",
   "execution_count": 28,
   "metadata": {},
   "outputs": [
    {
     "name": "stdout",
     "output_type": "stream",
     "text": [
      "cropped and saved  ./sample_images/Bildschirmfoto von 2022-08-24 14-34-47.png  into  ./cropped_images/Bildschirmfoto von 2022-08-24 14-34-47.png\n",
      "cropped and saved  ./sample_images/Bildschirmfoto vom 2022-08-12 20-25-42.png  into  ./cropped_images/Bildschirmfoto vom 2022-08-12 20-25-42.png\n",
      "cropped and saved  ./sample_images/Bildschirmfoto vom 2022-07-30 19-26-57.png  into  ./cropped_images/Bildschirmfoto vom 2022-07-30 19-26-57.png\n",
      "cropped and saved  ./sample_images/Bildschirmfoto vom 2022-08-06 16-25-47.png  into  ./cropped_images/Bildschirmfoto vom 2022-08-06 16-25-47.png\n",
      "cropped and saved  ./sample_images/Bildschirmfoto vom 2022-08-12 20-24-32.png  into  ./cropped_images/Bildschirmfoto vom 2022-08-12 20-24-32.png\n"
     ]
    }
   ],
   "source": [
    "crop_images(left, top, right, bottom)"
   ]
  }
 ],
 "metadata": {
  "kernelspec": {
   "display_name": "env_ai",
   "language": "python",
   "name": "python3"
  },
  "language_info": {
   "codemirror_mode": {
    "name": "ipython",
    "version": 3
   },
   "file_extension": ".py",
   "mimetype": "text/x-python",
   "name": "python",
   "nbconvert_exporter": "python",
   "pygments_lexer": "ipython3",
   "version": "3.8.1"
  },
  "orig_nbformat": 4,
  "vscode": {
   "interpreter": {
    "hash": "ebc9b7f51a1e917b6e9b1edd1f319259f270571b1a3f6e162deefa4f79b97afb"
   }
  }
 },
 "nbformat": 4,
 "nbformat_minor": 2
}
